{
 "cells": [
  {
   "cell_type": "code",
   "execution_count": 18,
   "id": "3d2a8d53",
   "metadata": {},
   "outputs": [
    {
     "name": "stdout",
     "output_type": "stream",
     "text": [
      "O to H1 : 0.969\n",
      "O to H2 : 0.969\n"
     ]
    }
   ],
   "source": [
    "import numpy\n",
    "import os\n",
    "\n",
    "def calculate_distance(atom1_coord, atom2_coord):\n",
    "    x_distance = atom1_coord[0] - atom2_coord[0]\n",
    "    y_distance = atom1_coord[1] - atom2_coord[1]\n",
    "    z_distance = atom1_coord[2] - atom2_coord[2]\n",
    "    bond_length_12 = numpy.sqrt(x_distance**2+y_distance**2+z_distance**2)\n",
    "    return bond_length_12\n",
    "\n",
    "def bond_check(atom_distance, minimum_length=0, maximum_length=1.5):\n",
    "    if atom_distance > minimum_length and atom_distance <= maximum_length:\n",
    "        return True\n",
    "    else:\n",
    "        return False\n",
    " \n",
    "def open_xyz(filename):\n",
    "     xyz_file = numpy.genfromtxt(fname=filename, skip_header=2, dtype='unicode')\n",
    "     symbols = xyz_file[:,0]\n",
    "     coord = (xyz_file[:,1:])\n",
    "     coord = coord.astype(float)\n",
    "     return symbols, coord\n",
    "\n",
    "file_location = os.path.join('data', 'water.xyz')\n",
    "symbols, coord = open_xyz(file_location)\n",
    "num_atoms = len(symbols)\n",
    "for num1 in range(0,num_atoms):\n",
    "     for num2 in range(0,num_atoms):\n",
    "         if num1<num2:\n",
    "             bond_length_12 = calculate_distance(coord[num1], coord[num2])\n",
    "             if bond_check(bond_length_12) is True:\n",
    "                 print(F'{symbols[num1]} to {symbols[num2]} : {bond_length_12:.3f}')"
   ]
  },
  {
   "cell_type": "code",
   "execution_count": 5,
   "id": "d047d5f5",
   "metadata": {},
   "outputs": [
    {
     "name": "stdout",
     "output_type": "stream",
     "text": [
      "data/water.xyz\n"
     ]
    }
   ],
   "source": [
    "print(file_location)"
   ]
  },
  {
   "cell_type": "code",
   "execution_count": 6,
   "id": "70ae890a",
   "metadata": {},
   "outputs": [
    {
     "name": "stderr",
     "output_type": "stream",
     "text": [
      "usage: ipykernel_launcher.py [-h] xyz_file\n",
      "ipykernel_launcher.py: error: unrecognized arguments: -f\n"
     ]
    },
    {
     "ename": "SystemExit",
     "evalue": "2",
     "output_type": "error",
     "traceback": [
      "An exception has occurred, use %tb to see the full traceback.\n",
      "\u001b[0;31mSystemExit\u001b[0m\u001b[0;31m:\u001b[0m 2\n"
     ]
    },
    {
     "name": "stderr",
     "output_type": "stream",
     "text": [
      "/Users/jodiepat/opt/anaconda3/lib/python3.9/site-packages/IPython/core/interactiveshell.py:3377: UserWarning: To exit: use 'exit', 'quit', or Ctrl-D.\n",
      "  warn(\"To exit: use 'exit', 'quit', or Ctrl-D.\", stacklevel=1)\n"
     ]
    }
   ],
   "source": [
    "import argparse\n",
    "\n",
    "parser = argparse.ArgumentParser(description=\"This script analyzes a user given xyz file and outputs the length of the bonds.\")\n",
    "parser.add_argument(\"xyz_file\", help=\"The filepath for the xyz file to analyze.\")\n",
    "args = parser.parse_args()\n",
    "xyzfilename = args.xyz_file\n",
    "\n",
    "\n",
    "import numpy\n",
    "import os\n",
    "\n",
    "def calculate_distance(atom1_coord, atom2_coord):\n",
    "    x_distance = atom1_coord[0] - atom2_coord[0]\n",
    "    y_distance = atom1_coord[1] - atom2_coord[1]\n",
    "    z_distance = atom1_coord[2] - atom2_coord[2]\n",
    "    bond_length_12 = numpy.sqrt(x_distance**2+y_distance**2+z_distance**2)\n",
    "    return bond_length_12\n",
    "\n",
    "def bond_check(atom_distance, minimum_length=0, maximum_length=1.5):\n",
    "    if atom_distance > minimum_length and atom_distance <= maximum_length:\n",
    "        return True\n",
    "    else:\n",
    "        return False\n",
    " \n",
    "def open_xyz(filename):\n",
    "     xyz_file = numpy.genfromtxt(fname=filename, skip_header=2, dtype='unicode')\n",
    "     symbols = xyz_file[:,0]\n",
    "     coord = (xyz_file[:,1:])\n",
    "     coord = coord.astype(float)\n",
    "     return symbols, coord\n",
    "    \n",
    "symbols, coord = open_xyz(xyzfilename)\n",
    "num_atoms = len(symbols)\n",
    "for num1 in range(0,num_atoms):\n",
    "     for num2 in range(0,num_atoms):\n",
    "         if num1<num2:\n",
    "             bond_length_12 = calculate_distance(coord[num1], coord[num2])\n",
    "             if bond_check(bond_length_12) is True:\n",
    "                 print(F'{symbols[num1]} to {symbols[num2]} : {bond_length_12:.3f}')"
   ]
  },
  {
   "cell_type": "code",
   "execution_count": 10,
   "id": "588cd631",
   "metadata": {},
   "outputs": [
    {
     "name": "stdout",
     "output_type": "stream",
     "text": [
      "data/buckminsterfullerene.xyz\n"
     ]
    }
   ],
   "source": [
    "import os\n",
    "\n",
    "buckyball_file = os.path.join('data', 'buckminsterfullerene.xyz')\n",
    "print(buckyball_file)"
   ]
  },
  {
   "cell_type": "code",
   "execution_count": 11,
   "id": "c4c35c75",
   "metadata": {},
   "outputs": [],
   "source": [
    "with open(buckyball_file,\"r\") as outfile:\n",
    "    data = outfile.readlines()"
   ]
  },
  {
   "cell_type": "code",
   "execution_count": 12,
   "id": "1f073cac",
   "metadata": {},
   "outputs": [
    {
     "name": "stdout",
     "output_type": "stream",
     "text": [
      "60\n",
      "\n",
      "c60.g03\n",
      "\n",
      "  C      0.0000      1.2363      3.3275\n",
      "\n",
      "  C     -1.1758      0.3820      3.3275\n",
      "\n",
      "  C     -0.7267     -1.0002      3.3275\n",
      "\n",
      "  C      0.7267     -1.0002      3.3275\n",
      "\n",
      "  C      1.1758      0.3820      3.3275\n",
      "\n",
      "  C      2.3047      0.7489      2.5939\n",
      "\n",
      "  C      3.0314     -0.2513      1.8298\n",
      "\n",
      "  C      2.6002     -1.5785      1.8298\n",
      "\n",
      "  C      1.4244     -1.9605      2.5939\n",
      "\n",
      "  C      0.6977     -2.9607      1.8298\n",
      "\n",
      "  C     -0.6977     -2.9607      1.8298\n",
      "\n",
      "  C     -1.4244     -1.9605      2.5939\n",
      "\n",
      "  C     -2.6002     -1.5785      1.8298\n",
      "\n",
      "  C     -3.0314     -0.2513      1.8298\n",
      "\n",
      "  C     -2.3047      0.7489      2.5939\n",
      "\n",
      "  C     -2.3047      1.9852      1.8298\n",
      "\n",
      "  C     -3.0314      1.7490      0.5935\n",
      "\n",
      "  C     -3.4805      0.3668      0.5935\n",
      "\n",
      "  C     -3.4805     -0.3668     -0.5935\n",
      "\n",
      "  C     -3.0314     -1.7490     -0.5935\n",
      "\n",
      "  C     -2.6002     -2.3426      0.5935\n",
      "\n",
      "  C     -1.4244     -3.1968      0.5935\n",
      "\n",
      "  C     -0.7267     -3.4235     -0.5935\n",
      "\n",
      "  C      0.7267     -3.4235     -0.5935\n",
      "\n",
      "  C      1.4244     -3.1968      0.5935\n",
      "\n",
      "  C      2.6002     -2.3426      0.5935\n",
      "\n",
      "  C      3.0314     -1.7490     -0.5935\n",
      "\n",
      "  C      3.4805     -0.3668     -0.5935\n",
      "\n",
      "  C      3.4805      0.3668      0.5935\n",
      "\n",
      "  C      3.0314      1.7490      0.5935\n",
      "\n",
      "  C      2.6002      2.3426     -0.5935\n",
      "\n",
      "  C      2.6002      1.5785     -1.8298\n",
      "\n",
      "  C      3.0314      0.2513     -1.8298\n",
      "\n",
      "  C      2.3047     -0.7489     -2.5939\n",
      "\n",
      "  C      2.3047     -1.9852     -1.8298\n",
      "\n",
      "  C      1.1758     -2.8054     -1.8298\n",
      "\n",
      "  C      0.0000     -2.4234     -2.5939\n",
      "\n",
      "  C     -1.1758     -2.8054     -1.8298\n",
      "\n",
      "  C     -2.3047     -1.9852     -1.8298\n",
      "\n",
      "  C     -2.3047     -0.7489     -2.5939\n",
      "\n",
      "  C     -3.0314      0.2513     -1.8298\n",
      "\n",
      "  C     -2.6002      1.5785     -1.8298\n",
      "\n",
      "  C     -2.6002      2.3426     -0.5935\n",
      "\n",
      "  C     -1.4244      3.1968     -0.5935\n",
      "\n",
      "  C     -0.6977      2.9607     -1.8298\n",
      "\n",
      "  C     -1.4244      1.9605     -2.5939\n",
      "\n",
      "  C     -0.7267      1.0002     -3.3275\n",
      "\n",
      "  C     -1.1758     -0.3820     -3.3275\n",
      "\n",
      "  C      0.0000     -1.2363     -3.3275\n",
      "\n",
      "  C      1.1758     -0.3820     -3.3275\n",
      "\n",
      "  C      0.7267      1.0002     -3.3275\n",
      "\n",
      "  C      1.4244      1.9605     -2.5939\n",
      "\n",
      "  C      0.6977      2.9607     -1.8298\n",
      "\n",
      "  C      1.4244      3.1968     -0.5935\n",
      "\n",
      "  C      0.7267      3.4235      0.5935\n",
      "\n",
      "  C     -0.7267      3.4235      0.5935\n",
      "\n",
      "  C     -1.1758      2.8054      1.8298\n",
      "\n",
      "  C      0.0000      2.4234      2.5939\n",
      "\n",
      "  C      1.1758      2.8054      1.8298\n",
      "\n",
      "  C      2.3047      1.9852      1.8298\n"
     ]
    }
   ],
   "source": [
    "for line in data:\n",
    "    print(line)\n"
   ]
  },
  {
   "cell_type": "code",
   "execution_count": 13,
   "id": "7acb9dd4",
   "metadata": {},
   "outputs": [
    {
     "ename": "NameError",
     "evalue": "name 'xyz_file' is not defined",
     "output_type": "error",
     "traceback": [
      "\u001b[0;31m---------------------------------------------------------------------------\u001b[0m",
      "\u001b[0;31mNameError\u001b[0m                                 Traceback (most recent call last)",
      "Input \u001b[0;32mIn [13]\u001b[0m, in \u001b[0;36m<cell line: 1>\u001b[0;34m()\u001b[0m\n\u001b[0;32m----> 1\u001b[0m \u001b[38;5;28mprint\u001b[39m(\u001b[43mxyz_file\u001b[49m)\n",
      "\u001b[0;31mNameError\u001b[0m: name 'xyz_file' is not defined"
     ]
    }
   ],
   "source": [
    "print(xyz_file)"
   ]
  },
  {
   "cell_type": "code",
   "execution_count": 19,
   "id": "de7b1e2f",
   "metadata": {},
   "outputs": [
    {
     "name": "stderr",
     "output_type": "stream",
     "text": [
      "usage: ipykernel_launcher.py [-h] xyz_file\n",
      "ipykernel_launcher.py: error: unrecognized arguments: -f\n"
     ]
    },
    {
     "ename": "SystemExit",
     "evalue": "2",
     "output_type": "error",
     "traceback": [
      "An exception has occurred, use %tb to see the full traceback.\n",
      "\u001b[0;31mSystemExit\u001b[0m\u001b[0;31m:\u001b[0m 2\n"
     ]
    }
   ],
   "source": [
    "import os\n",
    "import numpy\n",
    "import argparse\n",
    "\n",
    "def calculate_distance(atom1_coord, atom2_coord):\n",
    "    x_distance = atom1_coord[0] - atom2_coord[0]\n",
    "    y_distance = atom1_coord[1] - atom2_coord[1]\n",
    "    z_distance = atom1_coord[2] - atom2_coord[2]\n",
    "    bond_length_12 = numpy.sqrt(x_distance**2+y_distance**2+z_distance**2)\n",
    "    return bond_length_12\n",
    "\n",
    "def bond_check(atom_distance, minimum_length=0, maximum_length=1.5):\n",
    "    if atom_distance > minimum_length and atom_distance <= maximum_length:\n",
    "        return True\n",
    "    else:\n",
    "        return False\n",
    "\n",
    "def open_xyz(filename):\n",
    "     xyz_file = numpy.genfromtxt(fname=filename, skip_header=2, dtype='unicode')\n",
    "     symbols = xyz_file[:,0]\n",
    "     coord = (xyz_file[:,1:])\n",
    "     coord = coord.astype(float)\n",
    "     return symbols, coord\n",
    "\n",
    "\n",
    "if __name__ == \"__main__\":\n",
    "\n",
    "    ## Get the arguments.\n",
    "    parser = argparse.ArgumentParser(description=\"This script analyzes a user given xyz file and outputs the length of the bonds.\")\n",
    "    parser.add_argument(\"xyz_file\", help=\"The filepath for the xyz file to analyze.\")\n",
    "\n",
    "    args = parser.parse_args()\n",
    "\n",
    "    symbols, coord = open_xyz(args.xyz_file)\n",
    "    num_atoms = len(symbols)\n",
    "\n",
    "    for num1 in range(0,num_atoms):\n",
    "         for num2 in range(0,num_atoms):\n",
    "             if num1<num2:\n",
    "                 bond_length_12 = calculate_distance(coord[num1], coord[num2])\n",
    "                 if bond_check(bond_length_12) is True:\n",
    "                     print(F'{symbols[num1]} to {symbols[num2]} : {bond_length_12:.3f}')\n",
    "                    "
   ]
  },
  {
   "cell_type": "code",
   "execution_count": null,
   "id": "720a038e",
   "metadata": {},
   "outputs": [],
   "source": []
  }
 ],
 "metadata": {
  "kernelspec": {
   "display_name": "Python 3 (ipykernel)",
   "language": "python",
   "name": "python3"
  },
  "language_info": {
   "codemirror_mode": {
    "name": "ipython",
    "version": 3
   },
   "file_extension": ".py",
   "mimetype": "text/x-python",
   "name": "python",
   "nbconvert_exporter": "python",
   "pygments_lexer": "ipython3",
   "version": "3.9.12"
  }
 },
 "nbformat": 4,
 "nbformat_minor": 5
}
